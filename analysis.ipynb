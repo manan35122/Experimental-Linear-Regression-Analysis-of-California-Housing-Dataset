{
 "cells": [
  {
   "cell_type": "markdown",
   "id": "98bfab11",
   "metadata": {},
   "source": [
    "### Name: Abdulmanan\n",
    "### Roll Number: 22i-2391"
   ]
  },
  {
   "cell_type": "markdown",
   "id": "a433f89a",
   "metadata": {},
   "source": [
    "#### Phase 1 – Dataset Loading"
   ]
  },
  {
   "cell_type": "code",
   "execution_count": 42,
   "id": "3e454bba",
   "metadata": {},
   "outputs": [],
   "source": [
    "from sklearn.datasets import fetch_california_housing\n",
    "import numpy as np"
   ]
  },
  {
   "cell_type": "code",
   "execution_count": 43,
   "id": "a54673cd",
   "metadata": {},
   "outputs": [],
   "source": [
    "data = fetch_california_housing()\n",
    "\n",
    "X = data.data\n",
    "Y = data.target"
   ]
  },
  {
   "cell_type": "code",
   "execution_count": 50,
   "id": "cca78e2f",
   "metadata": {},
   "outputs": [
    {
     "name": "stdout",
     "output_type": "stream",
     "text": [
      "Feature Names: \n",
      "MedInc\n",
      "HouseAge\n",
      "AveRooms\n",
      "AveBedrms\n",
      "Population\n",
      "AveOccup\n",
      "Latitude\n",
      "Longitude\n",
      "-----------------------------------------------------\n",
      "Feature Values:  [[   8.3252       41.            6.98412698 ...    2.55555556\n",
      "    37.88       -122.23      ]\n",
      " [   8.3014       21.            6.23813708 ...    2.10984183\n",
      "    37.86       -122.22      ]\n",
      " [   7.2574       52.            8.28813559 ...    2.80225989\n",
      "    37.85       -122.24      ]\n",
      " ...\n",
      " [   1.7          17.            5.20554273 ...    2.3256351\n",
      "    39.43       -121.22      ]\n",
      " [   1.8672       18.            5.32951289 ...    2.12320917\n",
      "    39.43       -121.32      ]\n",
      " [   2.3886       16.            5.25471698 ...    2.61698113\n",
      "    39.37       -121.24      ]]\n",
      "-----------------------------------------------------\n",
      "Target Values [4.526 3.585 3.521 ... 0.923 0.847 0.894]\n"
     ]
    }
   ],
   "source": [
    "print(\"Feature Names: \")\n",
    "for name in (data.feature_names):\n",
    "    print(name)\n",
    "print(\"-----------------------------------------------------\")\n",
    "print(\"Feature Values: \",X)\n",
    "print(\"-----------------------------------------------------\")\n",
    "print(\"Target Values\",Y)"
   ]
  },
  {
   "cell_type": "code",
   "execution_count": 49,
   "id": "7bc8cb4b",
   "metadata": {},
   "outputs": [
    {
     "name": "stdout",
     "output_type": "stream",
     "text": [
      "  MedInc   |  HouseAge  |  AveRooms  | AveBedrms  | Population |  AveOccup  |  Latitude  | Longitude \n",
      "--------------------------------------------------------------------------------------------------------\n",
      " 8.32520   |  41.00000  |  6.98413   |  1.02381   | 322.00000  |  2.55556   |  37.88000  | -122.23000\n",
      " 8.30140   |  21.00000  |  6.23814   |  0.97188   | 2401.00000 |  2.10984   |  37.86000  | -122.22000\n",
      " 7.25740   |  52.00000  |  8.28814   |  1.07345   | 496.00000  |  2.80226   |  37.85000  | -122.24000\n",
      " 5.64310   |  52.00000  |  5.81735   |  1.07306   | 558.00000  |  2.54795   |  37.85000  | -122.25000\n",
      " 3.84620   |  52.00000  |  6.28185   |  1.08108   | 565.00000  |  2.18147   |  37.85000  | -122.25000\n"
     ]
    }
   ],
   "source": [
    "def print_table(headers, data_array, rows=5):\n",
    "    print(\" | \".join(f\"{h:^10}\" for h in headers))\n",
    "    print(\"-\" * (len(headers) * 13))  \n",
    "    for row in data_array[:rows]:\n",
    "        print(\" | \".join(f\"{val:^10.5f}\" for val in row))\n",
    "print_table(data.feature_names, X, rows=5)"
   ]
  },
  {
   "cell_type": "markdown",
   "id": "26635672",
   "metadata": {},
   "source": [
    "#### Phase 2 – Exploratory Data Analysis"
   ]
  },
  {
   "cell_type": "code",
   "execution_count": 56,
   "id": "b40b3c88",
   "metadata": {},
   "outputs": [
    {
     "name": "stdout",
     "output_type": "stream",
     "text": [
      "Feature: MedInc\n",
      "  Mean:   3.87\n",
      "  Median: 3.53\n",
      "  Min:    0.50\n",
      "  Max:    15.00\n",
      "  Std:    1.90\n",
      "Feature: HouseAge\n",
      "  Mean:   28.64\n",
      "  Median: 29.00\n",
      "  Min:    1.00\n",
      "  Max:    52.00\n",
      "  Std:    12.59\n",
      "Feature: AveRooms\n",
      "  Mean:   5.43\n",
      "  Median: 5.23\n",
      "  Min:    0.85\n",
      "  Max:    141.91\n",
      "  Std:    2.47\n",
      "Feature: AveBedrms\n",
      "  Mean:   1.10\n",
      "  Median: 1.05\n",
      "  Min:    0.33\n",
      "  Max:    34.07\n",
      "  Std:    0.47\n",
      "Feature: Population\n",
      "  Mean:   1425.48\n",
      "  Median: 1166.00\n",
      "  Min:    3.00\n",
      "  Max:    35682.00\n",
      "  Std:    1132.43\n",
      "Feature: AveOccup\n",
      "  Mean:   3.07\n",
      "  Median: 2.82\n",
      "  Min:    0.69\n",
      "  Max:    1243.33\n",
      "  Std:    10.39\n",
      "Feature: Latitude\n",
      "  Mean:   35.63\n",
      "  Median: 34.26\n",
      "  Min:    32.54\n",
      "  Max:    41.95\n",
      "  Std:    2.14\n",
      "Feature: Longitude\n",
      "  Mean:   -119.57\n",
      "  Median: -118.49\n",
      "  Min:    -124.35\n",
      "  Max:    -114.31\n",
      "  Std:    2.00\n"
     ]
    }
   ],
   "source": [
    "for i,feature in enumerate(data.feature_names):\n",
    "    col = X[:,i]\n",
    "    print(f\"Feature: {feature}\")\n",
    "    print(f\"  Mean:   {np.mean(col):.2f}\")\n",
    "    print(f\"  Median: {np.median(col):.2f}\")\n",
    "    print(f\"  Min:    {np.min(col):.2f}\")\n",
    "    print(f\"  Max:    {np.max(col):.2f}\")\n",
    "    print(f\"  Std:    {np.std(col):.2f}\")\n",
    "\n"
   ]
  },
  {
   "cell_type": "code",
   "execution_count": null,
   "id": "754c7c44",
   "metadata": {},
   "outputs": [],
   "source": []
  }
 ],
 "metadata": {
  "kernelspec": {
   "display_name": "Python 3",
   "language": "python",
   "name": "python3"
  },
  "language_info": {
   "codemirror_mode": {
    "name": "ipython",
    "version": 3
   },
   "file_extension": ".py",
   "mimetype": "text/x-python",
   "name": "python",
   "nbconvert_exporter": "python",
   "pygments_lexer": "ipython3",
   "version": "3.13.7"
  }
 },
 "nbformat": 4,
 "nbformat_minor": 5
}
